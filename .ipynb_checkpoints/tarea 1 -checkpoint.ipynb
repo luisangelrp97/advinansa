{
 "cells": [
  {
   "cell_type": "code",
   "execution_count": null,
   "metadata": {
    "collapsed": true
   },
   "outputs": [],
   "source": [
    "import random as ran \n",
    "num=ran.randint(3,9)\n",
    "for i in range (3):\n",
    "    u1=int(input(\"primer intento:\"))\n",
    "    if u1==num:\n",
    "        print (\"correcto\")"
   ]
  }
 ],
 "metadata": {
  "kernelspec": {
   "display_name": "Python 3",
   "language": "python",
   "name": "python3"
  },
  "language_info": {
   "codemirror_mode": {
    "name": "ipython",
    "version": 3
   },
   "file_extension": ".py",
   "mimetype": "text/x-python",
   "name": "python",
   "nbconvert_exporter": "python",
   "pygments_lexer": "ipython3",
   "version": "3.6.1"
  }
 },
 "nbformat": 4,
 "nbformat_minor": 2
}
