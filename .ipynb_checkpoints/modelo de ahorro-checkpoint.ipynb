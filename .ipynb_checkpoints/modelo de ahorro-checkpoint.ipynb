{
 "cells": [
  {
   "cell_type": "code",
   "execution_count": null,
   "metadata": {
    "collapsed": true
   },
   "outputs": [],
   "source": [
    "#from sympy import init_printing; init_printing(use_latex='mathjax') imprimir en formato teX, para derivar e integrar"
   ]
  },
  {
   "cell_type": "code",
   "execution_count": 2,
   "metadata": {},
   "outputs": [
    {
     "name": "stdout",
     "output_type": "stream",
     "text": [
      "El número de periodos que se debe dejar invertido el dinero es 13. Al final del periodo 13, el capital es 11040.0.\n"
     ]
    }
   ],
   "source": [
    "# Librería para cálculo numérico\n",
    "import numpy as np\n",
    "\n",
    "# Valores dados en el enunciado\n",
    "C_0, meta, i = 10000, 11000, 0.008\n",
    "# Despejamos k tal que C_k=meta\n",
    "k = np.ceil((meta/C_0 - 1)/i)   # Notar el uso de la función ceil (no se puede tener un número no entero de periodos)\n",
    "k = k.astype(int)               # Conversión a entero (para visualización)\n",
    "C_k = C_0*(1+k*i)               # Cálculo del capital al final del periodo k\n",
    "C_k = round(C_k, 2)             # Redondeo con dos cifras decimales\n",
    "\n",
    "# Imprimimos respuesta en pantalla\n",
    "print(\"El número de periodos que se debe dejar invertido el dinero es \", k,\". Al final del periodo \", k,\n",
    "      \", el capital es \", C_k, \".\", sep=\"\")"
   ]
  },
  {
   "cell_type": "code",
   "execution_count": 4,
   "metadata": {},
   "outputs": [
    {
     "name": "stdout",
     "output_type": "stream",
     "text": [
      "El número de periodos que se debe dejar invertido el dinero es 200. Al final del periodo 200, el capital es 12000.0.\n"
     ]
    }
   ],
   "source": [
    "# Librería para cálculo numérico\n",
    "import numpy as np\n",
    "\n",
    "# Valores dados en el enunciado\n",
    "C_0, meta, i = 10000, 12000, 0.001\n",
    "# Despejamos k tal que C_k=meta\n",
    "k = np.ceil((meta/C_0 - 1)/i)   # Notar el uso de la función ceil (no se puede tener un número no entero de periodos)\n",
    "k = k.astype(int)               # Conversión a entero (para visualización)\n",
    "C_k = C_0*(1+k*i)               # Cálculo del capital al final del periodo k\n",
    "C_k = round(C_k, 2)             # Redondeo con dos cifras decimales\n",
    "\n",
    "# Imprimimos respuesta en pantalla\n",
    "print(\"El número de periodos que se debe dejar invertido el dinero es \", k,\". Al final del periodo \", k,\n",
    "      \", el capital es \", C_k, \".\", sep=\"\")"
   ]
  },
  {
   "cell_type": "markdown",
   "metadata": {},
   "source": [
    "Ejemplo. Suponga que se tiene un capital de \\$10000 MXN, el cual se pone en un fondo de inversión que paga una tasa de interés del 0.8% mensual.\n",
    "Si se tiene una meta de ahorro de \\$11000 MXN sin inversiones adicionales, ¿cuántos meses se debería dejar invertido el dinero?\n",
    "Muestre una gráfica que ilustre la situación."
   ]
  },
  {
   "cell_type": "code",
   "execution_count": 26,
   "metadata": {
    "collapsed": true
   },
   "outputs": [],
   "source": [
    "%matplotlib inline "
   ]
  },
  {
   "cell_type": "code",
   "execution_count": 37,
   "metadata": {},
   "outputs": [
    {
     "name": "stderr",
     "output_type": "stream",
     "text": [
      "C:\\Users\\LARP\\ANACONDA\\lib\\site-packages\\ipykernel_launcher.py:8: DeprecationWarning: object of type <class 'numpy.float64'> cannot be safely interpreted as an integer.\n",
      "  \n"
     ]
    },
    {
     "data": {
      "application/vnd.jupyter.widget-view+json": {
       "model_id": "79713b4b518247428f57125c0ded954d"
      }
     },
     "metadata": {},
     "output_type": "display_data"
    },
    {
     "data": {
      "image/png": "[encoded data removed]",
      "text/plain": [
       "<matplotlib.figure.Figure at 0x25ec3adebe0>"
      ]
     },
     "metadata": {},
     "output_type": "display_data"
    }
   ],
   "source": [
    "import numpy as np\n",
    "import matplotlib.pyplot as plt\n",
    "from ipywidgets import *\n",
    "P=10000\n",
    "i=.008\n",
    "F=11000\n",
    "t=round(np.log(F/P)/np.log(1+i))\n",
    "tt = np.linspace(0,t,t+1)\n",
    "FF = P*(1+i)**tt\n",
    "plt.figure(num=1); plt.clf()\n",
    "plt.plot(tt,FF)\n",
    "plt.xlabel('capital($)')                         # Etiqueta eje x\n",
    "plt.ylabel('tiempo(m)')\n",
    "interact_manual(interes_compuesto, C_0=fixed(10000), meta=(10000,12000,100), i=fixed(0.008));\n",
    "\n"
   ]
  },
  {
   "cell_type": "code",
   "execution_count": 38,
   "metadata": {},
   "outputs": [
    {
     "ename": "SyntaxError",
     "evalue": "invalid syntax (<ipython-input-38-6b9c974ca09c>, line 11)",
     "output_type": "error",
     "traceback": [
      "\u001b[1;36m  File \u001b[1;32m\"<ipython-input-38-6b9c974ca09c>\"\u001b[1;36m, line \u001b[1;32m11\u001b[0m\n\u001b[1;33m    rng = pd.date_range(fecha_inicio, periods=Anos*Abonos_ano, freq='MS')\u001b[0m\n\u001b[1;37m      ^\u001b[0m\n\u001b[1;31mSyntaxError\u001b[0m\u001b[1;31m:\u001b[0m invalid syntax\n"
     ]
    }
   ],
   "source": [
    "                                                                                           "
   ]
  },
  {
   "cell_type": "code",
   "execution_count": 42,
   "metadata": {},
   "outputs": [
    {
     "data": {
      "text/html": [
       "<div>\n",
       "<style>\n",
       "    .dataframe thead tr:only-child th {\n",
       "        text-align: right;\n",
       "    }\n",
       "\n",
       "    .dataframe thead th {\n",
       "        text-align: left;\n",
       "    }\n",
       "\n",
       "    .dataframe tbody tr th {\n",
       "        vertical-align: top;\n",
       "    }\n",
       "</style>\n",
       "<table border=\"1\" class=\"dataframe\">\n",
       "  <thead>\n",
       "    <tr style=\"text-align: right;\">\n",
       "      <th></th>\n",
       "      <th>Fecha del abono</th>\n",
       "      <th>Abono</th>\n",
       "      <th>Balance</th>\n",
       "    </tr>\n",
       "    <tr>\n",
       "      <th>Periodo</th>\n",
       "      <th></th>\n",
       "      <th></th>\n",
       "      <th></th>\n",
       "    </tr>\n",
       "  </thead>\n",
       "  <tbody>\n",
       "    <tr>\n",
       "      <th>1</th>\n",
       "      <td>2018-02-01</td>\n",
       "      <td>3319.71</td>\n",
       "      <td>13403.04</td>\n",
       "    </tr>\n",
       "    <tr>\n",
       "      <th>2</th>\n",
       "      <td>2018-03-01</td>\n",
       "      <td>3319.71</td>\n",
       "      <td>16834.45</td>\n",
       "    </tr>\n",
       "    <tr>\n",
       "      <th>3</th>\n",
       "      <td>2018-04-01</td>\n",
       "      <td>3319.71</td>\n",
       "      <td>20294.44</td>\n",
       "    </tr>\n",
       "    <tr>\n",
       "      <th>4</th>\n",
       "      <td>2018-05-01</td>\n",
       "      <td>3319.71</td>\n",
       "      <td>23783.27</td>\n",
       "    </tr>\n",
       "    <tr>\n",
       "      <th>5</th>\n",
       "      <td>2018-06-01</td>\n",
       "      <td>3319.71</td>\n",
       "      <td>27301.18</td>\n",
       "    </tr>\n",
       "    <tr>\n",
       "      <th>6</th>\n",
       "      <td>2018-07-01</td>\n",
       "      <td>3319.71</td>\n",
       "      <td>30848.40</td>\n",
       "    </tr>\n",
       "    <tr>\n",
       "      <th>7</th>\n",
       "      <td>2018-08-01</td>\n",
       "      <td>3319.71</td>\n",
       "      <td>34425.18</td>\n",
       "    </tr>\n",
       "    <tr>\n",
       "      <th>8</th>\n",
       "      <td>2018-09-01</td>\n",
       "      <td>3319.71</td>\n",
       "      <td>38031.76</td>\n",
       "    </tr>\n",
       "    <tr>\n",
       "      <th>9</th>\n",
       "      <td>2018-10-01</td>\n",
       "      <td>3319.71</td>\n",
       "      <td>41668.40</td>\n",
       "    </tr>\n",
       "    <tr>\n",
       "      <th>10</th>\n",
       "      <td>2018-11-01</td>\n",
       "      <td>3319.71</td>\n",
       "      <td>45335.35</td>\n",
       "    </tr>\n",
       "    <tr>\n",
       "      <th>11</th>\n",
       "      <td>2018-12-01</td>\n",
       "      <td>3319.71</td>\n",
       "      <td>49032.86</td>\n",
       "    </tr>\n",
       "    <tr>\n",
       "      <th>12</th>\n",
       "      <td>2019-01-01</td>\n",
       "      <td>3319.71</td>\n",
       "      <td>52761.17</td>\n",
       "    </tr>\n",
       "    <tr>\n",
       "      <th>13</th>\n",
       "      <td>2019-02-01</td>\n",
       "      <td>3319.71</td>\n",
       "      <td>56520.56</td>\n",
       "    </tr>\n",
       "    <tr>\n",
       "      <th>14</th>\n",
       "      <td>2019-03-01</td>\n",
       "      <td>3319.71</td>\n",
       "      <td>60311.27</td>\n",
       "    </tr>\n",
       "    <tr>\n",
       "      <th>15</th>\n",
       "      <td>2019-04-01</td>\n",
       "      <td>3319.71</td>\n",
       "      <td>64133.58</td>\n",
       "    </tr>\n",
       "    <tr>\n",
       "      <th>16</th>\n",
       "      <td>2019-05-01</td>\n",
       "      <td>3319.71</td>\n",
       "      <td>67987.73</td>\n",
       "    </tr>\n",
       "    <tr>\n",
       "      <th>17</th>\n",
       "      <td>2019-06-01</td>\n",
       "      <td>3319.71</td>\n",
       "      <td>71874.01</td>\n",
       "    </tr>\n",
       "    <tr>\n",
       "      <th>18</th>\n",
       "      <td>2019-07-01</td>\n",
       "      <td>3319.71</td>\n",
       "      <td>75792.67</td>\n",
       "    </tr>\n",
       "    <tr>\n",
       "      <th>19</th>\n",
       "      <td>2019-08-01</td>\n",
       "      <td>3319.71</td>\n",
       "      <td>79743.99</td>\n",
       "    </tr>\n",
       "    <tr>\n",
       "      <th>20</th>\n",
       "      <td>2019-09-01</td>\n",
       "      <td>3319.71</td>\n",
       "      <td>83728.23</td>\n",
       "    </tr>\n",
       "    <tr>\n",
       "      <th>21</th>\n",
       "      <td>2019-10-01</td>\n",
       "      <td>3319.71</td>\n",
       "      <td>87745.67</td>\n",
       "    </tr>\n",
       "    <tr>\n",
       "      <th>22</th>\n",
       "      <td>2019-11-01</td>\n",
       "      <td>3319.71</td>\n",
       "      <td>91796.60</td>\n",
       "    </tr>\n",
       "    <tr>\n",
       "      <th>23</th>\n",
       "      <td>2019-12-01</td>\n",
       "      <td>3319.71</td>\n",
       "      <td>95881.28</td>\n",
       "    </tr>\n",
       "    <tr>\n",
       "      <th>24</th>\n",
       "      <td>2020-01-01</td>\n",
       "      <td>3319.71</td>\n",
       "      <td>100000.00</td>\n",
       "    </tr>\n",
       "  </tbody>\n",
       "</table>\n",
       "</div>"
      ],
      "text/plain": [
       "        Fecha del abono    Abono    Balance\n",
       "Periodo                                    \n",
       "1            2018-02-01  3319.71   13403.04\n",
       "2            2018-03-01  3319.71   16834.45\n",
       "3            2018-04-01  3319.71   20294.44\n",
       "4            2018-05-01  3319.71   23783.27\n",
       "5            2018-06-01  3319.71   27301.18\n",
       "6            2018-07-01  3319.71   30848.40\n",
       "7            2018-08-01  3319.71   34425.18\n",
       "8            2018-09-01  3319.71   38031.76\n",
       "9            2018-10-01  3319.71   41668.40\n",
       "10           2018-11-01  3319.71   45335.35\n",
       "11           2018-12-01  3319.71   49032.86\n",
       "12           2019-01-01  3319.71   52761.17\n",
       "13           2019-02-01  3319.71   56520.56\n",
       "14           2019-03-01  3319.71   60311.27\n",
       "15           2019-04-01  3319.71   64133.58\n",
       "16           2019-05-01  3319.71   67987.73\n",
       "17           2019-06-01  3319.71   71874.01\n",
       "18           2019-07-01  3319.71   75792.67\n",
       "19           2019-08-01  3319.71   79743.99\n",
       "20           2019-09-01  3319.71   83728.23\n",
       "21           2019-10-01  3319.71   87745.67\n",
       "22           2019-11-01  3319.71   91796.60\n",
       "23           2019-12-01  3319.71   95881.28\n",
       "24           2020-01-01  3319.71  100000.00"
      ]
     },
     "execution_count": 42,
     "metadata": {},
     "output_type": "execute_result"
    }
   ],
   "source": [
    "# Librería de análisis de datos\n",
    "import pandas as pd\n",
    "# Librería para manipulación de fechas\n",
    "from datetime import date\n",
    "\n",
    "# Datos para la cuenta de ahorro\n",
    "Tasa_interes = 0.1\n",
    "Anos = 2\n",
    "Abonos_ano = 12\n",
    "Inicial = 10000\n",
    "Meta = 100000\n",
    "fecha_inicio = (date(2018,1,31))\n",
    "\n",
    "# Cálculo de abonos mensuales iguales para llegar a la meta de ahorro en el tiempo deseado\n",
    "Abono = (Tasa_interes/Abonos_ano)*(Meta - Inicial*(1+Tasa_interes/Abonos_ano)**(Anos*Abonos_ano))/((1+Tasa_interes/Abonos_ano)**(Anos*Abonos_ano)-1)\n",
    "\n",
    "# Rango de fechas en la tabla\n",
    "rng = pd.date_range(fecha_inicio, periods=Anos*Abonos_ano, freq='MS')\n",
    "rng.name = \"Fecha del abono\"\n",
    "\n",
    "# Columnas de abonos y extracto de cuenta en las fechas respectivas\n",
    "df = pd.DataFrame(index=rng,columns=['Abono', 'Balance'], dtype='float')\n",
    "df.reset_index(inplace=True)\n",
    "df.index += 1\n",
    "df.index.name = \"Periodo\"  # Columna correspondiente al periodo\n",
    "\n",
    "# Los abonos son iguales\n",
    "df[\"Abono\"] = Abono\n",
    "\n",
    "# Vector indizador de los periodos de los abonos\n",
    "index_vector = np.arange(1,len(rng)+1)\n",
    "# Extracto de la cuenta mes a mes\n",
    "df[\"Balance\"] = Inicial*(1+Tasa_interes/Abonos_ano)**index_vector+Abono*(((1+Tasa_interes/Abonos_ano)**index_vector-1)/(Tasa_interes/Abonos_ano))\n",
    "\n",
    "# Redondear con dos cifras decimales\n",
    "df = df.round(2)\n",
    "df\n",
    "\n",
    "# La siguiente solución es también válida. Sin embargo, evitar el uso de 'for'\n",
    "\n",
    "#df.loc[1, \"Balance\"] = Inicial*(1+Tasa_interes/Abonos_ano)**1 + df.loc[1, \"Abono\"]\n",
    "\n",
    "#for i in range(2, len(df)+1):\n",
    "#    # Get the previous balance as well as current payments\n",
    "#    prev_balance = df.loc[i-1, \"Balance\"]\n",
    "\n",
    "#    df.loc[i, \"Balance\"] = prev_balance*(1+Tasa_interes/Abonos_ano)**1 + df.loc[i, \"Abono\"]"
   ]
  },
  {
   "cell_type": "code",
   "execution_count": 47,
   "metadata": {},
   "outputs": [
    {
     "name": "stdout",
     "output_type": "stream",
     "text": [
      "C:\\Users\\LARP\\OneDrive - ITESO\\INGENIERIA FINANCIERA\\3 semestre\\Simulacion Matemática\\ARCHIVOS GITHUB\\advinansa\\advinansa\n"
     ]
    }
   ],
   "source": [
    "!cd"
   ]
  },
  {
   "cell_type": "code",
   "execution_count": 45,
   "metadata": {},
   "outputs": [
    {
     "name": "stderr",
     "output_type": "stream",
     "text": [
      "\"pwd\" no se reconoce como un comando interno o externo,\n",
      "programa o archivo por lotes ejecutable.\n"
     ]
    }
   ],
   "source": [
    "!pwd"
   ]
  },
  {
   "cell_type": "code",
   "execution_count": 46,
   "metadata": {},
   "outputs": [
    {
     "ename": "ValueError",
     "evalue": "No engine for filetype: ''",
     "output_type": "error",
     "traceback": [
      "\u001b[1;31m---------------------------------------------------------------------------\u001b[0m",
      "\u001b[1;31mOptionError\u001b[0m                               Traceback (most recent call last)",
      "\u001b[1;32mC:\\Users\\LARP\\ANACONDA\\lib\\site-packages\\pandas\\io\\excel.py\u001b[0m in \u001b[0;36m__new__\u001b[1;34m(cls, path, engine, **kwargs)\u001b[0m\n\u001b[0;32m    684\u001b[0m                 \u001b[1;32mtry\u001b[0m\u001b[1;33m:\u001b[0m\u001b[1;33m\u001b[0m\u001b[0m\n\u001b[1;32m--> 685\u001b[1;33m                     \u001b[0mengine\u001b[0m \u001b[1;33m=\u001b[0m \u001b[0mconfig\u001b[0m\u001b[1;33m.\u001b[0m\u001b[0mget_option\u001b[0m\u001b[1;33m(\u001b[0m\u001b[1;34m'io.excel.%s.writer'\u001b[0m \u001b[1;33m%\u001b[0m \u001b[0mext\u001b[0m\u001b[1;33m)\u001b[0m\u001b[1;33m\u001b[0m\u001b[0m\n\u001b[0m\u001b[0;32m    686\u001b[0m                 \u001b[1;32mexcept\u001b[0m \u001b[0mKeyError\u001b[0m\u001b[1;33m:\u001b[0m\u001b[1;33m\u001b[0m\u001b[0m\n",
      "\u001b[1;32mC:\\Users\\LARP\\ANACONDA\\lib\\site-packages\\pandas\\core\\config.py\u001b[0m in \u001b[0;36m__call__\u001b[1;34m(self, *args, **kwds)\u001b[0m\n\u001b[0;32m    223\u001b[0m     \u001b[1;32mdef\u001b[0m \u001b[0m__call__\u001b[0m\u001b[1;33m(\u001b[0m\u001b[0mself\u001b[0m\u001b[1;33m,\u001b[0m \u001b[1;33m*\u001b[0m\u001b[0margs\u001b[0m\u001b[1;33m,\u001b[0m \u001b[1;33m**\u001b[0m\u001b[0mkwds\u001b[0m\u001b[1;33m)\u001b[0m\u001b[1;33m:\u001b[0m\u001b[1;33m\u001b[0m\u001b[0m\n\u001b[1;32m--> 224\u001b[1;33m         \u001b[1;32mreturn\u001b[0m \u001b[0mself\u001b[0m\u001b[1;33m.\u001b[0m\u001b[0m__func__\u001b[0m\u001b[1;33m(\u001b[0m\u001b[1;33m*\u001b[0m\u001b[0margs\u001b[0m\u001b[1;33m,\u001b[0m \u001b[1;33m**\u001b[0m\u001b[0mkwds\u001b[0m\u001b[1;33m)\u001b[0m\u001b[1;33m\u001b[0m\u001b[0m\n\u001b[0m\u001b[0;32m    225\u001b[0m \u001b[1;33m\u001b[0m\u001b[0m\n",
      "\u001b[1;32mC:\\Users\\LARP\\ANACONDA\\lib\\site-packages\\pandas\\core\\config.py\u001b[0m in \u001b[0;36m_get_option\u001b[1;34m(pat, silent)\u001b[0m\n\u001b[0;32m     96\u001b[0m \u001b[1;32mdef\u001b[0m \u001b[0m_get_option\u001b[0m\u001b[1;33m(\u001b[0m\u001b[0mpat\u001b[0m\u001b[1;33m,\u001b[0m \u001b[0msilent\u001b[0m\u001b[1;33m=\u001b[0m\u001b[1;32mFalse\u001b[0m\u001b[1;33m)\u001b[0m\u001b[1;33m:\u001b[0m\u001b[1;33m\u001b[0m\u001b[0m\n\u001b[1;32m---> 97\u001b[1;33m     \u001b[0mkey\u001b[0m \u001b[1;33m=\u001b[0m \u001b[0m_get_single_key\u001b[0m\u001b[1;33m(\u001b[0m\u001b[0mpat\u001b[0m\u001b[1;33m,\u001b[0m \u001b[0msilent\u001b[0m\u001b[1;33m)\u001b[0m\u001b[1;33m\u001b[0m\u001b[0m\n\u001b[0m\u001b[0;32m     98\u001b[0m \u001b[1;33m\u001b[0m\u001b[0m\n",
      "\u001b[1;32mC:\\Users\\LARP\\ANACONDA\\lib\\site-packages\\pandas\\core\\config.py\u001b[0m in \u001b[0;36m_get_single_key\u001b[1;34m(pat, silent)\u001b[0m\n\u001b[0;32m     82\u001b[0m             \u001b[0m_warn_if_deprecated\u001b[0m\u001b[1;33m(\u001b[0m\u001b[0mpat\u001b[0m\u001b[1;33m)\u001b[0m\u001b[1;33m\u001b[0m\u001b[0m\n\u001b[1;32m---> 83\u001b[1;33m         \u001b[1;32mraise\u001b[0m \u001b[0mOptionError\u001b[0m\u001b[1;33m(\u001b[0m\u001b[1;34m'No such keys(s): %r'\u001b[0m \u001b[1;33m%\u001b[0m \u001b[0mpat\u001b[0m\u001b[1;33m)\u001b[0m\u001b[1;33m\u001b[0m\u001b[0m\n\u001b[0m\u001b[0;32m     84\u001b[0m     \u001b[1;32mif\u001b[0m \u001b[0mlen\u001b[0m\u001b[1;33m(\u001b[0m\u001b[0mkeys\u001b[0m\u001b[1;33m)\u001b[0m \u001b[1;33m>\u001b[0m \u001b[1;36m1\u001b[0m\u001b[1;33m:\u001b[0m\u001b[1;33m\u001b[0m\u001b[0m\n",
      "\u001b[1;31mOptionError\u001b[0m: \"No such keys(s): 'io.excel..writer'\"",
      "\nDuring handling of the above exception, another exception occurred:\n",
      "\u001b[1;31mValueError\u001b[0m                                Traceback (most recent call last)",
      "\u001b[1;32m<ipython-input-46-fef875c189da>\u001b[0m in \u001b[0;36m<module>\u001b[1;34m()\u001b[0m\n\u001b[1;32m----> 1\u001b[1;33m \u001b[0mexcel\u001b[0m\u001b[1;33m=\u001b[0m \u001b[0mpd\u001b[0m\u001b[1;33m.\u001b[0m\u001b[0mExcelWriter\u001b[0m\u001b[1;33m(\u001b[0m\u001b[1;34m\"TablaAbonos,xlsx\"\u001b[0m\u001b[1;33m)\u001b[0m\u001b[1;33m\u001b[0m\u001b[0m\n\u001b[0m\u001b[0;32m      2\u001b[0m \u001b[0mdf\u001b[0m\u001b[1;33m.\u001b[0m\u001b[0mto_excel\u001b[0m\u001b[1;33m(\u001b[0m\u001b[0mexcel\u001b[0m\u001b[1;33m,\u001b[0m\u001b[1;34m'hoja 1'\u001b[0m\u001b[1;33m)\u001b[0m\u001b[1;33m\u001b[0m\u001b[0m\n\u001b[0;32m      3\u001b[0m \u001b[0mexcel\u001b[0m\u001b[1;33m.\u001b[0m\u001b[0msave\u001b[0m\u001b[1;33m(\u001b[0m\u001b[1;33m)\u001b[0m\u001b[1;33m\u001b[0m\u001b[0m\n",
      "\u001b[1;32mC:\\Users\\LARP\\ANACONDA\\lib\\site-packages\\pandas\\io\\excel.py\u001b[0m in \u001b[0;36m__new__\u001b[1;34m(cls, path, engine, **kwargs)\u001b[0m\n\u001b[0;32m    686\u001b[0m                 \u001b[1;32mexcept\u001b[0m \u001b[0mKeyError\u001b[0m\u001b[1;33m:\u001b[0m\u001b[1;33m\u001b[0m\u001b[0m\n\u001b[0;32m    687\u001b[0m                     \u001b[0merror\u001b[0m \u001b[1;33m=\u001b[0m \u001b[0mValueError\u001b[0m\u001b[1;33m(\u001b[0m\u001b[1;34m\"No engine for filetype: '%s'\"\u001b[0m \u001b[1;33m%\u001b[0m \u001b[0mext\u001b[0m\u001b[1;33m)\u001b[0m\u001b[1;33m\u001b[0m\u001b[0m\n\u001b[1;32m--> 688\u001b[1;33m                     \u001b[1;32mraise\u001b[0m \u001b[0merror\u001b[0m\u001b[1;33m\u001b[0m\u001b[0m\n\u001b[0m\u001b[0;32m    689\u001b[0m             \u001b[0mcls\u001b[0m \u001b[1;33m=\u001b[0m \u001b[0mget_writer\u001b[0m\u001b[1;33m(\u001b[0m\u001b[0mengine\u001b[0m\u001b[1;33m)\u001b[0m\u001b[1;33m\u001b[0m\u001b[0m\n\u001b[0;32m    690\u001b[0m \u001b[1;33m\u001b[0m\u001b[0m\n",
      "\u001b[1;31mValueError\u001b[0m: No engine for filetype: ''"
     ]
    }
   ],
   "source": [
    "excel= pd.ExcelWriter(\"TablaAbonos,xlsx\")\n",
    "df.to_excel(excel,'hoja 1')\n",
    "excel.save()"
   ]
  },
  {
   "cell_type": "code",
   "execution_count": null,
   "metadata": {
    "collapsed": true
   },
   "outputs": [],
   "source": [
    "eqn="
   ]
  },
  {
   "cell_type": "markdown",
   "metadata": {},
   "source": [
    "https://render.githubusercontent.com/render/math?math=%5Cfrac%7Bd%20C%28t%29%7D%7Bdt%7D%3Dr%5C%3B%20C%28t%29%2C&mode=display"
   ]
  },
  {
   "cell_type": "code",
   "execution_count": null,
   "metadata": {
    "collapsed": true
   },
   "outputs": [],
   "source": []
  },
  {
   "cell_type": "code",
   "execution_count": null,
   "metadata": {
    "collapsed": true
   },
   "outputs": [],
   "source": []
  },
  {
   "cell_type": "code",
   "execution_count": null,
   "metadata": {
    "collapsed": true
   },
   "outputs": [],
   "source": []
  },
  {
   "cell_type": "code",
   "execution_count": null,
   "metadata": {
    "collapsed": true
   },
   "outputs": [],
   "source": []
  },
  {
   "cell_type": "code",
   "execution_count": null,
   "metadata": {
    "collapsed": true
   },
   "outputs": [],
   "source": []
  }
 ],
 "metadata": {
  "kernelspec": {
   "display_name": "Python 3",
   "language": "python",
   "name": "python3"
  },
  "language_info": {
   "codemirror_mode": {
    "name": "ipython",
    "version": 3
   },
   "file_extension": ".py",
   "mimetype": "text/x-python",
   "name": "python",
   "nbconvert_exporter": "python",
   "pygments_lexer": "ipython3",
   "version": "3.6.1"
  }
 },
 "nbformat": 4,
 "nbformat_minor": 2
}
