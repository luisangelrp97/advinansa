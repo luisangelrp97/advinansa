{
 "cells": [
  {
   "cell_type": "code",
   "execution_count": null,
   "metadata": {
    "collapsed": true
   },
   "outputs": [],
   "source": []
  },
  {
   "cell_type": "code",
   "execution_count": null,
   "metadata": {
    "collapsed": true
   },
   "outputs": [],
   "source": [
    "\n",
    "    \n",
    "    \n",
    "    \n",
    "    "
   ]
  },
  {
   "cell_type": "code",
   "execution_count": null,
   "metadata": {},
   "outputs": [],
   "source": [
    "print(\"costo por una casa\")\n",
    "pisos=input(\"cuantos pisos tendrá tu casa:\")\n",
    "for k in range (int(pisos)):\n",
    "    cuartos=input(\"cuartos en el piso \"+ str(k+1)+\":\")\n",
    "    for i in range (int(cuartos)):\n",
    "        nummuros = input(\"Cuantos muros quieres construir: \")\n",
    "        preciototal = 0\n",
    "        for i in range (int(nummuros)):\n",
    "            longitudmuro = int(input(\"Longitud del muro \"+ str(i+1)+\"para el cuarto\" +str(k+1)+\":\"))\n",
    "            altura = input(\"Altura del muro: \")\n",
    "            junta = 2\n",
    "            ladrillo = 3\n",
    "\n",
    "            areatotalmuro = int(longitudmuro) * int(altura)\n",
    "            areatotalladrillo = .12 * .17\n",
    "\n",
    "            numladrillos = round(areatotalmuro / areatotalladrillo)\n",
    "            costoladrillo = numladrillos * ladrillo\n",
    "                   \n",
    "            castillo = 129\n",
    " \n",
    "            if (longitudmuro) > 3:\n",
    "                \n",
    "                castillosextras = \n",
    "    "
   ]
  },
  {
   "cell_type": "code",
   "execution_count": null,
   "metadata": {
    "collapsed": true
   },
   "outputs": [],
   "source": [
    "print(\"costo por una casa\")\n",
    "pisos=input(\"cuantos pisos tendrá tu casa:\")\n",
    "for k in range (int(pisos)):\n",
    "    cuartos=input(\"cuartos en el piso \"+ str(k+1)+\":\")\n",
    "    for i in range (int(cuartos)):\n",
    "        nummuros = input(\"Cuantos muros quieres construir: \")\n",
    "        preciototal = 0\n",
    "        for i in range (int(nummuros)):\n",
    "            longitudmuro = int(input(\"Longitud del muro \"+ str(i+1)+\"para el cuarto\" +str(k+1)+\":\"))\n",
    "            altura = input(\"Altura del muro: \")\n",
    "            junta = 2\n",
    "            ladrillo = 3\n",
    "\n",
    "            areatotalmuro = int(longitudmuro) * int(altura)\n",
    "            areatotalladrillo = .12 * .17\n",
    "\n",
    "            numladrillos = round(areatotalmuro / areatotalladrillo)\n",
    "            costoladrillo = numladrillos * ladrillo\n",
    "                   \n",
    "            castillo = 129\n",
    " \n",
    "            if (longitudmuro) > 3:\n",
    "                \n",
    "                castillosextras = (round(longitudmuro / 3))\n",
    "                     \n",
    "            costocastillos = (castillo * 2) + (castillosextras * castillo) \n",
    "\n",
    "            costalescemento = areatotalmuro * 2\n",
    "            costocemento =  costalescemento * 108\n",
    "\n",
    "            preciototaldelmuro = costocastillos + costoladrillo + costocemento\n",
    "\n",
    "            preciototal += preciototaldelmuro\n",
    "    "
   ]
  },
  {
   "cell_type": "code",
   "execution_count": null,
   "metadata": {
    "collapsed": true
   },
   "outputs": [],
   "source": []
  }
 ],
 "metadata": {
  "kernelspec": {
   "display_name": "Python 3",
   "language": "python",
   "name": "python3"
  },
  "language_info": {
   "codemirror_mode": {
    "name": "ipython",
    "version": 3
   },
   "file_extension": ".py",
   "mimetype": "text/x-python",
   "name": "python",
   "nbconvert_exporter": "python",
   "pygments_lexer": "ipython3",
   "version": "3.6.1"
  }
 },
 "nbformat": 4,
 "nbformat_minor": 2
}
