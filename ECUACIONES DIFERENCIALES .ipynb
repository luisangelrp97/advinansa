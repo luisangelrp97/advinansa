{
 "cells": [
  {
   "cell_type": "code",
   "execution_count": 78,
   "metadata": {
    "collapsed": true
   },
   "outputs": [],
   "source": [
    "%matplotlib inline\n",
    "import numpy as np # importar la funcion numpy, nos crea arreglos\n",
    "import matplotlib.pyplot as plt #importar la funcion para graficar "
   ]
  },
  {
   "cell_type": "code",
   "execution_count": 79,
   "metadata": {},
   "outputs": [
    {
     "data": {
      "text/plain": [
       "(array([100,  49,  16,   1,   4,  25,  64]),\n",
       " array([-10,  -7,  -4,  -1,   2,   5,   8]))"
      ]
     },
     "execution_count": 79,
     "metadata": {},
     "output_type": "execute_result"
    }
   ],
   "source": [
    "x= np.arange(-10,10,3)\n",
    "f=x**2\n",
    "f,x"
   ]
  },
  {
   "cell_type": "code",
   "execution_count": 80,
   "metadata": {},
   "outputs": [
    {
     "data": {
      "text/plain": [
       "[<matplotlib.lines.Line2D at 0x11483e04630>]"
      ]
     },
     "execution_count": 80,
     "metadata": {},
     "output_type": "execute_result"
    },
    {
     "data": {
      "image/png": "[encoded data removed]",
      "text/plain": [
       "<matplotlib.figure.Figure at 0x114825fed68>"
      ]
     },
     "metadata": {},
     "output_type": "display_data"
    }
   ],
   "source": [
    "plt.plot(x,f,'ro') #graficar"
   ]
  },
  {
   "cell_type": "code",
   "execution_count": 81,
   "metadata": {},
   "outputs": [
    {
     "data": {
      "text/plain": [
       "array([    8.   ,     8.021,     8.088,     8.207,     8.384,     8.625,\n",
       "           8.936,     9.323,     9.792,    10.349,    11.   ,    11.751,\n",
       "          12.608,    13.577,    14.664,    15.875,    17.216,    18.693,\n",
       "          20.312,    22.079,    24.   ,    26.081,    28.328,    30.747,\n",
       "          33.344,    36.125,    39.096,    42.263,    45.632,    49.209,\n",
       "          53.   ,    57.011,    61.248,    65.717,    70.424,    75.375,\n",
       "          80.576,    86.033,    91.752,    97.739,   104.   ,   110.541,\n",
       "         117.368,   124.487,   131.904,   139.625,   147.656,   156.003,\n",
       "         164.672,   173.669,   183.   ,   192.671,   202.688,   213.057,\n",
       "         223.784,   234.875,   246.336,   258.173,   270.392,   282.999,\n",
       "         296.   ,   309.401,   323.208,   337.427,   352.064,   367.125,\n",
       "         382.616,   398.543,   414.912,   431.729,   449.   ,   466.731,\n",
       "         484.928,   503.597,   522.744,   542.375,   562.496,   583.113,\n",
       "         604.232,   625.859,   648.   ,   670.661,   693.848,   717.567,\n",
       "         741.824,   766.625,   791.976,   817.883,   844.352,   871.389,\n",
       "         899.   ,   927.191,   955.968,   985.337,  1015.304,  1045.875,\n",
       "        1077.056,  1108.853,  1141.272,  1174.319])"
      ]
     },
     "execution_count": 81,
     "metadata": {},
     "output_type": "execute_result"
    }
   ],
   "source": [
    "t=np.arange(0,10,.1)\n",
    "f=t**3+2*t**2+8\n",
    "f"
   ]
  },
  {
   "cell_type": "code",
   "execution_count": 82,
   "metadata": {},
   "outputs": [
    {
     "data": {
      "text/plain": [
       "[<matplotlib.lines.Line2D at 0x11483e96fd0>]"
      ]
     },
     "execution_count": 82,
     "metadata": {},
     "output_type": "execute_result"
    },
    {
     "data": {
      "image/png": "[encoded data removed]",
      "text/plain": [
       "<matplotlib.figure.Figure at 0x11483e415c0>"
      ]
     },
     "metadata": {},
     "output_type": "display_data"
    }
   ],
   "source": [
    "plt.plot(t,f,'co')"
   ]
  },
  {
   "cell_type": "code",
   "execution_count": 83,
   "metadata": {},
   "outputs": [
    {
     "data": {
      "text/plain": [
       "[<matplotlib.lines.Line2D at 0x11483f31470>]"
      ]
     },
     "execution_count": 83,
     "metadata": {},
     "output_type": "execute_result"
    },
    {
     "data": {
      "image/png": "[encoded data removed]",
      "text/plain": [
       "<matplotlib.figure.Figure at 0x11483ec8e10>"
      ]
     },
     "metadata": {},
     "output_type": "display_data"
    }
   ],
   "source": [
    "p= 10*np.exp(2*t)\n",
    "p\n",
    "plt.plot(t,p,'ro')"
   ]
  },
  {
   "cell_type": "code",
   "execution_count": 84,
   "metadata": {
    "collapsed": true
   },
   "outputs": [],
   "source": [
    "def suma (x,y):\n",
    "    return x+y\n"
   ]
  },
  {
   "cell_type": "code",
   "execution_count": 85,
   "metadata": {},
   "outputs": [
    {
     "data": {
      "text/plain": [
       "11"
      ]
     },
     "execution_count": 85,
     "metadata": {},
     "output_type": "execute_result"
    }
   ],
   "source": [
    "suma(4,7)"
   ]
  },
  {
   "cell_type": "code",
   "execution_count": 86,
   "metadata": {
    "scrolled": true
   },
   "outputs": [
    {
     "data": {
      "text/plain": [
       "(array([0, 1, 2, 3, 4, 5, 6, 7, 8, 9]),\n",
       " array([ 0,  1,  4,  9, 16, 25, 36, 49, 64, 81]))"
      ]
     },
     "execution_count": 86,
     "metadata": {},
     "output_type": "execute_result"
    }
   ],
   "source": [
    "f = lambda x: x**2\n",
    "x = np.arange(0,10)\n",
    "x,f(x)"
   ]
  },
  {
   "cell_type": "code",
   "execution_count": 87,
   "metadata": {},
   "outputs": [
    {
     "data": {
      "text/plain": [
       "4"
      ]
     },
     "execution_count": 87,
     "metadata": {},
     "output_type": "execute_result"
    }
   ],
   "source": [
    "f(x)[2]\n"
   ]
  },
  {
   "cell_type": "code",
   "execution_count": 96,
   "metadata": {},
   "outputs": [
    {
     "data": {
      "text/plain": [
       "[<matplotlib.lines.Line2D at 0x11483ffce48>]"
      ]
     },
     "execution_count": 96,
     "metadata": {},
     "output_type": "execute_result"
    },
    {
     "data": {
      "image/png": "[encoded data removed]",
      "text/plain": [
       "<matplotlib.figure.Figure at 0x11483fa2978>"
      ]
     },
     "metadata": {},
     "output_type": "display_data"
    }
   ],
   "source": [
    "P = lambda t: 10*np.exp(2*t)\n",
    "def dP (pk,h):\n",
    "    pk1=pk + h*2*pk\n",
    "    return pk1\n",
    "tfin = 3\n",
    "h = .1\n",
    "\n",
    "t=np.arange(0,tfin+1,.1)\n",
    "pk=np.arange(0,tfin+h,h)\n",
    "\n",
    "pk[0]=10\n",
    "\n",
    "for k in np.arange (0,pk.size-1):\n",
    "    pk[k+1] = dP(pk[k],h)\n",
    "tk=np.arange(0,tfin+h,h)\n",
    "plt.plot(tk,pk)"
   ]
  },
  {
   "cell_type": "code",
   "execution_count": null,
   "metadata": {
    "collapsed": true
   },
   "outputs": [],
   "source": []
  }
 ],
 "metadata": {
  "kernelspec": {
   "display_name": "Python 3",
   "language": "python",
   "name": "python3"
  },
  "language_info": {
   "codemirror_mode": {
    "name": "ipython",
    "version": 3
   },
   "file_extension": ".py",
   "mimetype": "text/x-python",
   "name": "python",
   "nbconvert_exporter": "python",
   "pygments_lexer": "ipython3",
   "version": "3.6.1"
  }
 },
 "nbformat": 4,
 "nbformat_minor": 2
}
